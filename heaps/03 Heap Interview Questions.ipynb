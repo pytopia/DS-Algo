{
 "cells": [
  {
   "cell_type": "markdown",
   "metadata": {},
   "source": [
    "# Question 1\n",
    "\n",
    "Implement a \"Kth Largest\" class in a way that it find the kth largest element in a stream. Note that it is the kth largest element in the sorted order, not the kth distinct element.\n",
    "\n",
    "\n",
    "**Hint1**: ya see the \"sorted\" phrase plus the target to be the largest/smallest element, what does it recall ya of?\n",
    "\n",
    "**Hint2**: Ya can either use builtin functions or write from scratch \n",
    "\n"
   ]
  },
  {
   "cell_type": "code",
   "execution_count": null,
   "metadata": {},
   "outputs": [],
   "source": [
    "# Your Solution Here\n",
    "class KthLargest(object):\n",
    "\n",
    "    def __init__(self, k, nums):\n",
    "        \"\"\"\n",
    "        :type k: int\n",
    "        :type nums: List[int]\n",
    "        \"\"\"\n",
    "        \n",
    "        \n",
    "\n",
    "    def add(self, val):\n",
    "        \"\"\"\n",
    "        :type val: int\n",
    "        :rtype: int\n",
    "        \"\"\"\n",
    "        "
   ]
  },
  {
   "cell_type": "markdown",
   "metadata": {},
   "source": [
    "# Question 2\n",
    "\n",
    "You are given an array of integers stones where `stones[i]` is the weight of the ith stone.\n",
    "\n",
    "We are playing a game with the stones. On each turn, we choose the heaviest two stones and smash them together. Suppose the heaviest two stones have weights `x` and `y` with `x <= y`. The result of this smash is:\n",
    "\n",
    "If `x == y`, both stones are destroyed, and\n",
    "If `x != y`, the stone of weight `x` is destroyed, and the stone of weight `y` has new weight `y - x`.\n",
    "At the end of the game, there is at most one stone left.\n",
    "\n",
    "Return the smallest possible weight of the left stone. If there are no stones left, return `0`."
   ]
  },
  {
   "cell_type": "code",
   "execution_count": null,
   "metadata": {},
   "outputs": [],
   "source": [
    "#Your Solution Here\n",
    "class Solution(object):\n",
    "    def lastStoneWeight(self, stones):\n",
    "        \"\"\"\n",
    "        :type stones: List[int]\n",
    "        :rtype: int\n",
    "        \"\"\"\n"
   ]
  },
  {
   "cell_type": "markdown",
   "metadata": {},
   "source": [
    "# Question 3\n",
    "Given an array of points where `points[i] = [xi, yi]` represents a point on the X-Y plane and an integer `k`, return the `k` closest points to the origin `(0, 0)`.\n",
    "\n",
    "The distance between two points on the X-Y plane is the Euclidean distance `(i.e., √(x1 - x2)2 + (y1 - y2)2)`.\n",
    "\n",
    "You may return the answer in any order. The answer is guaranteed to be unique (except for the order that it is in)."
   ]
  },
  {
   "cell_type": "code",
   "execution_count": 1,
   "metadata": {},
   "outputs": [],
   "source": [
    "#You Solution Here\n",
    "class Solution(object):\n",
    "    def kClosest(self, points, k):\n",
    "        \"\"\"\n",
    "        :type points: List[List[int]]\n",
    "        :type k: int\n",
    "        :rtype: List[List[int]]\n",
    "        \"\"\""
   ]
  },
  {
   "cell_type": "code",
   "execution_count": null,
   "metadata": {},
   "outputs": [],
   "source": []
  }
 ],
 "metadata": {
  "kernelspec": {
   "display_name": "Python 3.10.4 64-bit",
   "language": "python",
   "name": "python3"
  },
  "language_info": {
   "codemirror_mode": {
    "name": "ipython",
    "version": 3
   },
   "file_extension": ".py",
   "mimetype": "text/x-python",
   "name": "python",
   "nbconvert_exporter": "python",
   "pygments_lexer": "ipython3",
   "version": "3.10.4"
  },
  "orig_nbformat": 4,
  "vscode": {
   "interpreter": {
    "hash": "916dbcbb3f70747c44a77c7bcd40155683ae19c65e1c03b4aa3499c5328201f1"
   }
  }
 },
 "nbformat": 4,
 "nbformat_minor": 2
}

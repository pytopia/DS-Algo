{
 "cells": [
  {
   "cell_type": "markdown",
   "metadata": {},
   "source": [
    "# Main Operations on Heap ➕✂️\n",
    "\n",
    "In this section, we delve into two main operations on heap; **Insertion**, and **Deletion**"
   ]
  },
  {
   "cell_type": "markdown",
   "metadata": {},
   "source": [
    "# Insertion ➕\n",
    "\n",
    "The very first note that ya gotta know in insertion is that, we almost, **ALWAYS** insert an element at the very first left empty spot in the last layer, following from **Left** to **Right**! Okay? \n",
    "Now, look at the example below which is a **Min Heap**; \n",
    "\n",
    "![insert](./imgs/insert.png)\n",
    "\n",
    "Imagine we wanna insert node 8 into the heap, but **OOPS 🤦‍♀️😕** this is a Min-Heap, ya remember in the Min-heap case, all the children values gotta be smaller than the parents nodes? So, to solve this issue, we need to Swap the nodes and walk up untill we reach to the place in correct order fashion! "
   ]
  },
  {
   "cell_type": "code",
   "execution_count": null,
   "metadata": {},
   "outputs": [],
   "source": [
    "#Insertion in Heap\n",
    "#Approach 1\n",
    "def insert(item):\n",
    "    item[size] = item \n",
    "    size += 1\n",
    "    heapifyUp()\n",
    "\n",
    "def swap(index1, index2):\n",
    "    tmp = customArr[index1]\n",
    "    customArr[index1] = customArr[index2]\n",
    "    customArr[index2] = tmp\n",
    "\n",
    "def heapifyUp(index):\n",
    "    item = size -1 #we wanna insert very left empty spot at the last level element in the heap\n",
    "    while hasParent(index) and Parent(index) > item[index]: #walk up as long as there is a parent and is not in right fasion order\n",
    "        swap(getindexParent(index), index)\n",
    "        index= getindexParent(index)\n",
    "\n",
    "#Approach 2\n",
    "def insert1(rootNode, index):  \n",
    "    parent = int((index -1)//2)\n",
    "    if index < 0:\n",
    "        return    \n",
    "    \n",
    "    elif customList[index] < rootNode.customList[parent]:\n",
    "        swap(customList[index], rootNode.customList[parent])\n"
   ]
  },
  {
   "cell_type": "markdown",
   "metadata": {},
   "source": [
    "# Extraction ✂️\n",
    "\n",
    "Do note that in heap data structure we can only extract the minimum/maximum value. This means that we can only remove the very first root at top of the heap! Now the way Extraction works is actually, first removing the root node, **Oppss, if we remote then there will be No root? it can't be possible, right?** So the way we fix this is, we take the very last element/node in the tree(last layer last node in the heap), swap it with the root node, then check the order being in correct fashion! (In min-heap root node gotta be smaller than its children and vica versa in Max-heap case). For swaping the elements, we need to be aware whether the case is Min heap or Max heap!\n",
    "If we are in a Min-heap type, then we need to swap the root with the smaller child, and keep gonig down n keep checking the values of each root n its children to be in right matter!\n",
    "\n",
    "![insert](./imgs/ext.png)"
   ]
  },
  {
   "cell_type": "markdown",
   "metadata": {},
   "source": []
  }
 ],
 "metadata": {
  "language_info": {
   "name": "python"
  },
  "orig_nbformat": 4
 },
 "nbformat": 4,
 "nbformat_minor": 2
}

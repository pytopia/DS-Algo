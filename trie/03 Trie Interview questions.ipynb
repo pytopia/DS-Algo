{
 "cells": [
  {
   "cell_type": "markdown",
   "metadata": {},
   "source": [
    "# Question 1\n",
    "\n",
    "A trie (pronounced as \"try\") or prefix tree is a tree data structure used to efficiently store and retrieve keys in a dataset of strings. There are various applications of this data structure, such as autocomplete and spellchecker.\n",
    "\n",
    "Implement the Trie class:\n",
    "\n",
    "- `Trie()` Initializes the trie object.\n",
    "- Implement `insert(String word)` Inserts the string word into the trie.\n",
    "- `boolean search(String word)` Returns true if the string word is in the trie (i.e., was inserted before), and false otherwise.\n",
    "- `boolean startsWith(String prefix)` Returns true if there is a previously inserted string word that has the prefix prefix, and false otherwise."
   ]
  },
  {
   "cell_type": "markdown",
   "metadata": {},
   "source": [
    "# Question 2\n",
    "\n",
    "Design a data structure that supports adding new words and finding if a string matches any previously added string.\n",
    "\n",
    "Implement the WordDictionary class:\n",
    "\n",
    "`WordDictionary()` Initializes the object.\n",
    "void `addWord(word)` Adds word to the data structure, it can be matched later.\n",
    "bool `search(word)` Returns `true` if there is any string in the data structure that matches word or `false` otherwise. word may contain dots `'.'` where dots can be matched with any letter."
   ]
  }
 ],
 "metadata": {
  "language_info": {
   "name": "python"
  },
  "orig_nbformat": 4
 },
 "nbformat": 4,
 "nbformat_minor": 2
}

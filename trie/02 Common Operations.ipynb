{
 "cells": [
  {
   "cell_type": "markdown",
   "metadata": {},
   "source": [
    "# Insertion\n",
    "\n",
    "In order to insert a char in a trie we have 2 cases to delve into;\n",
    "\n",
    "1) Trie is Blank; \n",
    "\n",
    "Imagine we wanna inset word \"APP\" into a trie. So we get started with frist charactor and go and add it to the trie. Note that if the trie is blank, then clearly we gotta have 1 node per Char! Then we start by adding each of the charactors then NOTE to set end of word!\n",
    "\n",
    "![2](./img/1.png)\n",
    "\n",
    "2) New string's Prefix is Common to another string Prefix;\n",
    "\n",
    "So suppose that we wanna insert \"API\", but, hey, we already have \"AP\". No problem tho!! We can add multipy charactor to out hash map table, right? then set the end of string to YES!\n",
    "\n",
    "![1](./img/2.png)\n",
    "\n"
   ]
  },
  {
   "cell_type": "code",
   "execution_count": 12,
   "metadata": {},
   "outputs": [],
   "source": [
    "class TrieNode:\n",
    "    def __init__(self):\n",
    "        self.children = {}\n",
    "        self.endString= False\n",
    "\n",
    "class Trie:\n",
    "    def __init__(self):\n",
    "        self.root = TrieNode()\n",
    "\n",
    "    def insert(self, word):\n",
    "        current = self.root #start from the initial root then loop thro it to check whether the chr exists init, if not, add it\n",
    "        for chr in word:\n",
    "            node = current.children.get(chr) #if the chr exists then store it in node, if not then creat a new node\n",
    "            if not node:\n",
    "                node = TrieNode() #create new node\n",
    "                current.children.update({chr:node}) #set the children to new char\n",
    "            current = node\n",
    "        current.endString = True"
   ]
  },
  {
   "cell_type": "markdown",
   "metadata": {},
   "source": [
    "# Search\n",
    "\n",
    "With search we either have 3 cases:\n",
    "\n",
    "1) String doesnt exist!\n",
    "\n",
    "So, the way we gonna work is to compare first char in the given word with the trie, if they equal then go for the nxt char, if not return False\n",
    "\n",
    "\n",
    "![3](./img/3.png)\n",
    "\n",
    "2) String exist;\n",
    "\n",
    "Dont ever forget the last element to be set \"end Of String\", if it has not then it means thaat it is not the case.\n",
    "\n",
    "\n",
    "![4](./img/4.png)\n",
    "\n",
    "3) String exists, but its prefix so its not the answer we are looking for!\n",
    "\n",
    "This is the most trickiest condition, so pay attention to find that \"end of string\"\n",
    "\n",
    "\n",
    "![5](./img/5.png)"
   ]
  },
  {
   "cell_type": "code",
   "execution_count": 14,
   "metadata": {},
   "outputs": [],
   "source": [
    "def search(self, word):\n",
    "    current = self.root\n",
    "    for chr in word:\n",
    "        node = current.children.get(chr)\n",
    "        if node == None: #it does not exist\n",
    "            return False\n",
    "        current = node\n",
    "\n",
    "\n",
    "    #after all looping all charactors if we reach end of string, it means that this string exists in this triw\n",
    "    if current.endString == True: #case 2\n",
    "        return True\n",
    "    else: False #case 3"
   ]
  },
  {
   "cell_type": "code",
   "execution_count": null,
   "metadata": {},
   "outputs": [],
   "source": []
  }
 ],
 "metadata": {
  "kernelspec": {
   "display_name": "Python 3.10.4 64-bit",
   "language": "python",
   "name": "python3"
  },
  "language_info": {
   "codemirror_mode": {
    "name": "ipython",
    "version": 3
   },
   "file_extension": ".py",
   "mimetype": "text/x-python",
   "name": "python",
   "nbconvert_exporter": "python",
   "pygments_lexer": "ipython3",
   "version": "3.10.4"
  },
  "orig_nbformat": 4,
  "vscode": {
   "interpreter": {
    "hash": "916dbcbb3f70747c44a77c7bcd40155683ae19c65e1c03b4aa3499c5328201f1"
   }
  }
 },
 "nbformat": 4,
 "nbformat_minor": 2
}

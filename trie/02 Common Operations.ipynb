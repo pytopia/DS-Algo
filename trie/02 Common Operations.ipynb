{
 "cells": [
  {
   "cell_type": "markdown",
   "metadata": {},
   "source": [
    "# Insertion\n",
    "\n",
    "In order to insert a char in a trie we have 2 cases to delve into;\n",
    "\n",
    "1) Trie is Blank; \n",
    "\n",
    "Imagine we wanna inset word \"APP\" into a trie. So we get started with frist charactor and go and add it to the trie. Note that if the trie is blank, then clearly we gotta have 1 node per Char! Then we start by adding each of the charactors then NOTE to set end of word!\n",
    "\n",
    "![1](./img/1.png)\n",
    "\n",
    "2) New string's Prefix is Common to another string Prefix;\n",
    "\n",
    "So suppose that we wanna insert \"API\", but, hey, we already have \"AP\". No problem tho!! We can add multipy charactor to out hash map table, right? then set the end of string to YES!\n",
    "\n",
    "![1](./img/2.png)\n",
    "\n"
   ]
  }
 ],
 "metadata": {
  "language_info": {
   "name": "python"
  },
  "orig_nbformat": 4
 },
 "nbformat": 4,
 "nbformat_minor": 2
}

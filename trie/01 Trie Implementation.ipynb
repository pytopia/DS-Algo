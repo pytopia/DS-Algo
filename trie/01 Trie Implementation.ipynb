{
 "cells": [
  {
   "cell_type": "markdown",
   "metadata": {},
   "source": [
    "# What is a Trie?\n",
    "\n",
    "Trie is a type of tree data structure that instead of numbers, stores **charactors** (strings) at each node in itself! Then if we look at the path down to that char, we end up having words! See the exp. below;\n",
    "\n",
    "![trie](./img/trie.png)\n",
    "\n",
    "So, here we can ask, Hey are there any words that starts with \"C\" \"A\" \"R\"?? Yes, they are! (that *  indicate a complete word!) BUT, we also have \"CARDS\", so that CAR is either a pre-fix, right?  \n",
    "So, as you probabely notice, the goal with Tries, is to make, searching for words, as efficient as possible, right? \n",
    "I just said, it stores strings at each node, so with this property, isn't it good for prefix matching?  If your answer is yes, then ya prbabely agree that it wll be used for finding/searching guickly for a word, right? \n",
    "\n",
    "# Trie properties;\n",
    "\n",
    "- Any node can store non-repeating characters. This means that in one Node, you cannot have two similar charactors! \n",
    "- Every node stores a link/reference to its next char! Given that, it basically mean that we need some sort of look up tables that immediately can map us from chr to its children to reach out to the next chr, right? For exp. in above picture, say we hey we have \"CA\", but do ya have \"R\", then we right away can say, hell, yessss! here it is! \"CAR\" then check for it being complete word or not!\n",
    "- Every node keep track of the end of the string. (* in the pic above!)\n",
    "- Can have multiple children for each node. Opposite to binary tree, where we can only have either one or max 2 children with tries, we can possible have more than 2 children! (i.e. 3,4, so on!)\n",
    "\n",
    "# Common use of tries?\n",
    "\n",
    "- Spelling checker\n",
    "- Word Validation \n",
    "- Word Search\n"
   ]
  }
 ],
 "metadata": {
  "language_info": {
   "name": "python"
  },
  "orig_nbformat": 4
 },
 "nbformat": 4,
 "nbformat_minor": 2
}

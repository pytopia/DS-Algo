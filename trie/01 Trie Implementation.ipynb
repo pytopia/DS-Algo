{
 "cells": [
  {
   "cell_type": "markdown",
   "metadata": {},
   "source": [
    "# What is a Trie?\n",
    "\n",
    "Trie is a type of tree data structure that instead of numbers, stores **charactors** (strings) at each node in itself! I just said, it stores strings at each node, so with this property, isn't it good for prefix matching?  If your answer is yes, then ya prbabely agree that it wll be used for finding/searching guickly for a word, right? \n",
    "\n",
    "# Trie properties;\n",
    "\n",
    "TODO \n",
    "\n",
    "# Common use of tries?\n",
    "\n",
    "- Spelling checker\n",
    "- Word Validation \n",
    "- Word Search\n"
   ]
  }
 ],
 "metadata": {
  "language_info": {
   "name": "python"
  },
  "orig_nbformat": 4
 },
 "nbformat": 4,
 "nbformat_minor": 2
}

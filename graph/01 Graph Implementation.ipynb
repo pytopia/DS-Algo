{
 "cells": [
  {
   "cell_type": "markdown",
   "metadata": {},
   "source": [
    "# Graph\n",
    "\n",
    "Graph is a non-linear DS which is basically a collection of Nodes(Vertices) and Edges where the edges can be directed (one way street), or Undirected (2-way street). The difference between a graph and a tree is that a graph Can have a cycle in itself! Meaning in a graph we can return back to one node on on and on!\n",
    "\n",
    "![graph](./img/graph.png)\n",
    "\n",
    "## Why we need Graph?\n",
    "\n",
    "Graph has so many usage in showing a network among different things. Another very well-known use of it is for finding the paths from one city to another one!\n",
    "\n",
    "## Graph implelentation?\n",
    "\n",
    "There are two ways of implementing Graph;\n",
    "- **Adjancy Matrix**\n",
    "- **Adjancy List** ---> using Dictionary in Python\n",
    "\n",
    "![graph](./img/graphimp.png)\n",
    "\n",
    "## When to use either of the approches?\n",
    "\n",
    "If we have few number of Edges, then List would definitely be a good to go option. However, if we have compelete/Almost complete graph (we have maximum number of vertices in the graph), then its good to go for the Matrix approach!\n"
   ]
  },
  {
   "cell_type": "code",
   "execution_count": null,
   "metadata": {},
   "outputs": [],
   "source": [
    "class Graph:\n",
    "    def __init__(self):\n",
    "        self.adjancy_list = {}\n",
    "    \n",
    "    def addVertex(self, vertex):\n",
    "        if self.vertex not in self.adjancy_list.keys(): #check whether it exists or not\n",
    "            self.adjancy_list[vertex] = [] #initialize the list of the conected nodes {A:[]}\n",
    "\n",
    "    def addEdge(self, vertex1, vertex2):\n",
    "        if vertex1 in self.adjancy_list.keys() and vertex2 in self.adjancy_list.keys(): #check whether the nodes exists\n",
    "            self.adjancy_list[vertex1].append(vertex2)\n",
    "            self.adjancy_list[vertex2].append(vertex1)\n",
    "        return False #if nodes does not exist in the graph"
   ]
  }
 ],
 "metadata": {
  "language_info": {
   "name": "python"
  },
  "orig_nbformat": 4
 },
 "nbformat": 4,
 "nbformat_minor": 2
}

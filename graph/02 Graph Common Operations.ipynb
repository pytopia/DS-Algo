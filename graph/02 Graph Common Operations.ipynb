{
 "cells": [
  {
   "cell_type": "markdown",
   "metadata": {},
   "source": [
    "# DFS and BFS?\n",
    "\n",
    "Suppose that you wanna go thro the graph! Say, you wanna figure out whether there is a path between two specific nodes; The way ya gonna do this is thro Traversing the graph in either **Depth First Search** or **Breath First Search**. The DFS approch is kinda easier, so we head start with that;\n",
    "\n",
    "## DFS\n",
    "\n",
    "Rememnber we wanted to figure out about a path between two nodes? SO, let's get started;\n",
    "\n",
    "Hey Node X, do ya have a path to node Y?\n",
    "\n",
    "Node X: hmm, I'm not sure, lemme go and ask from my children!\n",
    "\n",
    "Node X-child1 (R): Hey child, do ya have a path to node Y?\n",
    "\n",
    "Node X-grandchild: Hmm, I'm not sure! Lemme go n ask from my child!\n",
    "\n",
    "The process goes on and on and on, till we get to the target point! We call it DEPTH first search because we go very DEEP in the graph by asking each node children, before even asking from the neighnoring nodes!!! And if you think about it, that may cause a problem, nay?? Since it can get pretty tiring! Since maybe the target node is right next to the starting node, while we go deep in the trees children! So that's why we sometimes prefer to use BFS!\n",
    "\n",
    "![dfs](./img/dfs.png)\n",
    "\n",
    "As ya might guess, DFS, is basically a Recursion algorithms! And ya remenber that for recursion base algoZ, we use Stack Data Structure to implement them! Just one note here is that sice this is a graph, which potentially has a cycle in it, in order to make sure that we dont stuck in a loop over n over again, we need some sort of a Flag to be aware that we dont visit a node more than one time!"
   ]
  },
  {
   "cell_type": "code",
   "execution_count": null,
   "metadata": {},
   "outputs": [],
   "source": [
    "def dfs(vertex):\n",
    "    if not vertex:\n",
    "        return None\n",
    "    \n",
    "    stack, visited = [vertex], [vertex]\n",
    "    while stack:\n",
    "        node = stack.pop()\n",
    "        for adj in gdict[node]:\n",
    "            if adj not in visited:\n",
    "                stack.append(adj)\n",
    "                visited.append(adj)\n",
    "\n",
    "\n"
   ]
  }
 ],
 "metadata": {
  "language_info": {
   "name": "python"
  },
  "orig_nbformat": 4
 },
 "nbformat": 4,
 "nbformat_minor": 2
}
